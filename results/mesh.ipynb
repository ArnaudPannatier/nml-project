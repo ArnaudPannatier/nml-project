{
 "cells": [
  {
   "cell_type": "code",
   "execution_count": 1,
   "metadata": {},
   "outputs": [],
   "source": [
    "import plotly.graph_objects as go\n",
    "import numpy as np\n",
    "import pandas as pd\n",
    "# Download data set from plotly repo\n",
    "df = pd.read_csv('https://raw.githubusercontent.com/plotly/datasets/master/ply/shark-ply.csv')"
   ]
  },
  {
   "cell_type": "code",
   "execution_count": 2,
   "metadata": {},
   "outputs": [
    {
     "data": {
      "text/plain": [
       "(0     -0.165316\n",
       " 1     -0.181228\n",
       " 2     -0.164506\n",
       " 3     -0.146930\n",
       " 4     -0.147049\n",
       "          ...   \n",
       " 729         NaN\n",
       " 730         NaN\n",
       " 731         NaN\n",
       " 732         NaN\n",
       " 733         NaN\n",
       " Name: x, Length: 734, dtype: float64,\n",
       " 0      0.071463\n",
       " 1      0.056823\n",
       " 2      0.048311\n",
       " 3      0.064955\n",
       " 4      0.041452\n",
       "          ...   \n",
       " 729         NaN\n",
       " 730         NaN\n",
       " 731         NaN\n",
       " 732         NaN\n",
       " 733         NaN\n",
       " Name: y, Length: 734, dtype: float64)"
      ]
     },
     "execution_count": 2,
     "metadata": {},
     "output_type": "execute_result"
    }
   ],
   "source": [
    "df.x, df.y"
   ]
  },
  {
   "cell_type": "code",
   "execution_count": null,
   "metadata": {},
   "outputs": [],
   "source": []
  }
 ],
 "metadata": {
  "interpreter": {
   "hash": "5c67958c10d3e71716d52299e64168ad82e81a7b1319a7fa11534c4550b9d8f9"
  },
  "kernelspec": {
   "display_name": "Python 3.9.12 ('windgraph')",
   "language": "python",
   "name": "python3"
  },
  "language_info": {
   "codemirror_mode": {
    "name": "ipython",
    "version": 3
   },
   "file_extension": ".py",
   "mimetype": "text/x-python",
   "name": "python",
   "nbconvert_exporter": "python",
   "pygments_lexer": "ipython3",
   "version": "3.9.12"
  },
  "orig_nbformat": 4
 },
 "nbformat": 4,
 "nbformat_minor": 2
}
